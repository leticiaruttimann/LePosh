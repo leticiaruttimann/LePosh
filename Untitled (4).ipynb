{
 "cells": [
  {
   "cell_type": "code",
   "execution_count": 1,
   "id": "898b305d",
   "metadata": {},
   "outputs": [
    {
     "name": "stdout",
     "output_type": "stream",
     "text": [
      "{'_id': ObjectId('61265b2ae1bc553fea9b23e0'), 'name': 'Feminino', 'ancestors': '[]', 'parent': 'null'}\n"
     ]
    }
   ],
   "source": [
    "import datetime\n",
    "import pymongo\n",
    "import warnings\n",
    "import re\n",
    "from bson.objectid import ObjectId\n",
    "from pprint import pprint\n",
    "from pymongo import MongoClient\n",
    "client = MongoClient('localhost', 27017)\n",
    "db = client['LePosh']\n",
    "users = db.category\n",
    "print(users.find_one())"
   ]
  },
  {
   "cell_type": "markdown",
   "id": "28e06f3b",
   "metadata": {},
   "source": [
    "1) Vendedores sem anúncio de produto(s) na plataforma"
   ]
  },
  {
   "cell_type": "code",
   "execution_count": 147,
   "id": "2494eb5d",
   "metadata": {},
   "outputs": [
    {
     "name": "stdout",
     "output_type": "stream",
     "text": [
      "[{'_id': 'LJ007', 'productSeller': []},\n",
      " {'_id': 'LJ008', 'productSeller': []},\n",
      " {'_id': 'LJ009', 'productSeller': []},\n",
      " {'_id': 'LJ010', 'productSeller': []},\n",
      " {'_id': 'LJ011', 'productSeller': []}]\n"
     ]
    }
   ],
   "source": [
    "result = db.seller.aggregate([\n",
    "  {\n",
    "    \"$lookup\": {\n",
    "      \"from\": \"product\",\n",
    "      \"localField\": \"_id\",\n",
    "      \"foreignField\": \"seller_id\",\n",
    "      \"as\": \"productSeller\"\n",
    "    }\n",
    "  },\n",
    "    {\n",
    "    \"$match\": {\n",
    "      \"productSeller\": []\n",
    "    }\n",
    "  },\n",
    "  {\n",
    "    \"$project\": {\n",
    "      \"productSeller\": {\n",
    "        \"_id\":1\n",
    "      }\n",
    "    }\n",
    "  }\n",
    "])\n",
    "\n",
    "pprint(list(result))"
   ]
  },
  {
   "cell_type": "markdown",
   "id": "dca6c9b8",
   "metadata": {},
   "source": [
    "2) Ranking de vendedores com mais produtos listados na plataforma "
   ]
  },
  {
   "cell_type": "code",
   "execution_count": 149,
   "id": "4b01fa88",
   "metadata": {},
   "outputs": [
    {
     "name": "stdout",
     "output_type": "stream",
     "text": [
      "[{'Qtd': 7, '_id': 'LJ001'},\n",
      " {'Qtd': 5, '_id': 'LJ006'},\n",
      " {'Qtd': 3, '_id': 'LJ003'},\n",
      " {'Qtd': 3, '_id': 'LJ004'},\n",
      " {'Qtd': 2, '_id': 'LJ005'},\n",
      " {'Qtd': 1, '_id': 'LJ002'}]\n"
     ]
    }
   ],
   "source": [
    "pipeline = [\n",
    "            {\n",
    "                \"$group\": {\n",
    "                    \"_id\": \"$seller_id\", \"Qtd\": {\n",
    "                        \"$sum\": 1\n",
    "                    }\n",
    "                }\n",
    "            },\n",
    "            {\n",
    "                \"$match\": \n",
    "                {\"Qtd\":{\n",
    "                    \"$gt\":0\n",
    "                }\n",
    "                }\n",
    "            },\n",
    "            {\n",
    "                \"$sort\":  {\n",
    "                    \"Qtd\": -1\n",
    "                }\n",
    "            }, \n",
    "            \n",
    "]\n",
    "\n",
    "result = db.product.aggregate(pipeline)\n",
    "pprint(list(result))"
   ]
  },
  {
   "cell_type": "markdown",
   "id": "4394af0c",
   "metadata": {},
   "source": [
    "3) Subcategoria sem produto listado"
   ]
  },
  {
   "cell_type": "code",
   "execution_count": 160,
   "id": "5e85d968",
   "metadata": {
    "scrolled": true
   },
   "outputs": [
    {
     "data": {
      "text/plain": [
       "[{'name': 'Masculino', 'ancestors': '[]'},\n",
       " {'name': 'Novidades', 'ancestors': '[]'},\n",
       " {'name': 'Designers', 'ancestors': '[]'},\n",
       " {'name': 'Balenciaga', 'ancestors': 'Designers'},\n",
       " {'name': 'Masculino', 'ancestors': 'Novidades'},\n",
       " {'name': 'Designers', 'ancestors': 'Novidades'},\n",
       " {'name': 'Bolsas', 'ancestors': 'Masculino'},\n",
       " {'name': 'Sapatos', 'ancestors': 'Masculino'},\n",
       " {'name': 'Roupas', 'ancestors': 'Masculino'},\n",
       " {'name': 'Joias', 'ancestors': 'Masculino'}]"
      ]
     },
     "execution_count": 160,
     "metadata": {},
     "output_type": "execute_result"
    }
   ],
   "source": [
    "pipeline = db.category.aggregate(\n",
    "[\n",
    "    {\n",
    "        \"$lookup\": {\n",
    "            \"from\": \"product\", \n",
    "            \"localField\": \"name\",  \n",
    "            \"foreignField\": \"cat.name\",\n",
    "            \"as\": \"references\"\n",
    "        }\n",
    "    },\n",
    "    {\n",
    "        \"$match\": {\n",
    "            \"references\": [], \n",
    "        }   \n",
    "        },\n",
    "    {\n",
    "    \"$project\": {\n",
    "     \"name\": 1,\n",
    "        \"_id\":0,\n",
    "        \"ancestors\":1\n",
    "    }\n",
    "  }\n",
    "]);\n",
    "\n",
    "list (pipeline)"
   ]
  },
  {
   "cell_type": "markdown",
   "id": "21b5005d",
   "metadata": {},
   "source": [
    "4) Designers mais anunciados pelos lojistas com a condição usado (não é um produto novo)"
   ]
  },
  {
   "cell_type": "code",
   "execution_count": 210,
   "id": "7f526072",
   "metadata": {},
   "outputs": [
    {
     "name": "stdout",
     "output_type": "stream",
     "text": [
      "[{'_id': 'Balmain', 'qtd': 2},\n",
      " {'_id': 'Givenchy', 'qtd': 2},\n",
      " {'_id': 'Gucci', 'qtd': 2},\n",
      " {'_id': 'Alexander Wang', 'qtd': 1},\n",
      " {'_id': 'Diane Von Furstenberg', 'qtd': 1},\n",
      " {'_id': 'Cartier', 'qtd': 1},\n",
      " {'_id': 'Rolex', 'qtd': 1},\n",
      " {'_id': 'Moschino', 'qtd': 1}]\n"
     ]
    }
   ],
   "source": [
    "pipeline = db.product.aggregate([\n",
    "     {\"$match\": {\n",
    "        \"condition.is_used\": True\n",
    "    }\n",
    "     },\n",
    "    { \"$group\": { \"_id\": \"$details.designer\", \"qtd\": { \"$sum\": 1 }} },\n",
    "    { \"$sort\": { \"qtd\": -1 } }\n",
    "  ])\n",
    "pprint(list(pipeline))"
   ]
  },
  {
   "cell_type": "markdown",
   "id": "2b2cbf4c",
   "metadata": {},
   "source": [
    "5) Vendedores com produtos listados para venda e rating maior que 4.5 "
   ]
  },
  {
   "cell_type": "code",
   "execution_count": 242,
   "id": "d4f5a691",
   "metadata": {},
   "outputs": [
    {
     "name": "stdout",
     "output_type": "stream",
     "text": [
      "[{'_id': 'LJ001',\n",
      "  'productSeller': [{'name': 'Relógio Pasha - Cartier'},\n",
      "                    {'name': 'Relógio Gucci'},\n",
      "                    {'name': 'Relógio Sky-Dweller Rolex '},\n",
      "                    {'name': 'T-shirt linho Balmain'},\n",
      "                    {'name': 'Vestido de couro Gucci preto'},\n",
      "                    {'name': 'Bermuda Jeans Givenchy'},\n",
      "                    {'name': 'Relógio Gucci'}]},\n",
      " {'_id': 'LJ003',\n",
      "  'productSeller': [{'name': 'Vestido floral Givenchy rosa'},\n",
      "                    {'name': 'Vestido mid preto Moschino'}]},\n",
      " {'_id': 'LJ005',\n",
      "  'productSeller': [{'name': 'Jaqueta Inverno Balmain'},\n",
      "                    {'name': 'Vestido Silk mini Alexander McQueen'}]}]\n"
     ]
    }
   ],
   "source": [
    "result = db.seller.aggregate([\n",
    "  {\n",
    "    \"$lookup\": {\n",
    "      \"from\": \"product\",\n",
    "      \"localField\": \"_id\",\n",
    "      \"foreignField\": \"seller_id\",\n",
    "      \"as\": \"productSeller\"\n",
    "    }\n",
    "  },\n",
    "\n",
    "    {\n",
    "    \"$match\": {\n",
    "       \"rating\": { \n",
    "                \"$gt\":4.5}\n",
    "    }},\n",
    "  {\n",
    "    \"$project\": {\n",
    "      \"productSeller\": {\n",
    "        \"name\":1\n",
    "      }\n",
    "    }\n",
    "  }\n",
    "    \n",
    "])\n",
    "\n",
    "pprint(list(result))"
   ]
  },
  {
   "cell_type": "markdown",
   "id": "6c6cad06",
   "metadata": {},
   "source": [
    "# EXTRAAASSSS"
   ]
  },
  {
   "cell_type": "markdown",
   "id": "874e4ad9",
   "metadata": {},
   "source": [
    "Quantos documentos tem na collection product"
   ]
  },
  {
   "cell_type": "code",
   "execution_count": 182,
   "id": "214a8d6f",
   "metadata": {
    "scrolled": true
   },
   "outputs": [
    {
     "name": "stdout",
     "output_type": "stream",
     "text": [
      "[{'_id': 'null', 'count': 21}]\n"
     ]
    }
   ],
   "source": [
    "result = db.product.aggregate( [\n",
    "  {\n",
    "    \"$group\": {\n",
    "       \"_id\": \"null\",\n",
    "       \"count\": { \"$count\": { } }\n",
    "    }\n",
    "  }\n",
    "] )\n",
    "\n",
    "pprint(list(result))"
   ]
  },
  {
   "cell_type": "markdown",
   "id": "7abaca3c",
   "metadata": {},
   "source": [
    "Total produtos da categoria Relógio"
   ]
  },
  {
   "cell_type": "code",
   "execution_count": 237,
   "id": "c5ade018",
   "metadata": {},
   "outputs": [
    {
     "name": "stdout",
     "output_type": "stream",
     "text": [
      "[{'Qtd_produtos': 4}]\n"
     ]
    }
   ],
   "source": [
    "products = db.product.aggregate(\n",
    "  [\n",
    "    {\n",
    "      \"$match\": {\n",
    "       \"cat.name\": \"Relógios\"\n",
    "      }\n",
    "    },\n",
    "    {\n",
    "      \"$count\": \"Qtd_produtos\"\n",
    "    }\n",
    "  ]\n",
    ")\n",
    "\n",
    "pprint(list(products))"
   ]
  },
  {
   "cell_type": "markdown",
   "id": "2689e666",
   "metadata": {},
   "source": [
    "Nome de todos os produtos que estão listados na categoria \"camisa\" (insensitive case)"
   ]
  },
  {
   "cell_type": "code",
   "execution_count": 236,
   "id": "18b1f046",
   "metadata": {},
   "outputs": [
    {
     "data": {
      "text/plain": [
       "[{'name': 'T-shirt preta Givenchy'},\n",
       " {'name': 'T-shirt navy Fendi'},\n",
       " {'name': 'T-shirt linho Balmain'}]"
      ]
     },
     "execution_count": 236,
     "metadata": {},
     "output_type": "execute_result"
    }
   ],
   "source": [
    "result = db.product.find({'cat.name':{'$regex':'^camisa', '$options': 'i'}},\n",
    "                        {'name':1,'_id':0}\n",
    "                       )\n",
    "list(result)"
   ]
  },
  {
   "cell_type": "markdown",
   "id": "3c2f5d61",
   "metadata": {},
   "source": [
    "Todas subcategorias do vendedor LJ003"
   ]
  },
  {
   "cell_type": "code",
   "execution_count": 238,
   "id": "33d5892b",
   "metadata": {},
   "outputs": [
    {
     "name": "stdout",
     "output_type": "stream",
     "text": [
      "[{'_id': ['Givenchy', 'Feminino'], 'qtd': 1}, {'_id': 'Feminino', 'qtd': 1}]\n"
     ]
    }
   ],
   "source": [
    "pipeline = db.product.aggregate([\n",
    "    {\"$match\": {\n",
    "        \"seller_id\": \"LJ003\"\n",
    "    } \n",
    "    },\n",
    "    { \"$group\": { \"_id\": \"$cat.name\", \"qtd\": { \"$sum\": 1 }} },\n",
    "    { \"$sort\": { \"count\": -1 } }\n",
    "  ])\n",
    "pprint(list(pipeline))"
   ]
  },
  {
   "cell_type": "markdown",
   "id": "13660daf",
   "metadata": {},
   "source": [
    "Quantas categorias se repetem e quantos produtos existem em cada uma delas (descending order)"
   ]
  },
  {
   "cell_type": "code",
   "execution_count": 239,
   "id": "b4968ece",
   "metadata": {},
   "outputs": [
    {
     "name": "stdout",
     "output_type": "stream",
     "text": [
      "[{'_id': 'Feminino', 'count': 4},\n",
      " {'_id': 'Relógios', 'count': 4},\n",
      " {'_id': ['Balmain', 'Jaqueta'], 'count': 3},\n",
      " {'_id': ['Gucci', 'Feminino'], 'count': 2},\n",
      " {'_id': 'Camisa', 'count': 2}]\n"
     ]
    }
   ],
   "source": [
    "pipeline = [\n",
    "            {\"$group\": {\"_id\": \"$cat.name\", \"count\": {\"$sum\": 1}}},\n",
    "            {\"$match\": {\"count\":{\"$gt\":1}}},\n",
    "            {\"$sort\":  {\"count\": -1}},\n",
    "            \n",
    "]\n",
    "\n",
    "result = db.product.aggregate(pipeline)\n",
    "pprint(list(result))"
   ]
  },
  {
   "cell_type": "markdown",
   "id": "08a6fcbe",
   "metadata": {},
   "source": [
    "Todos produtos da categoria Jaqueta"
   ]
  },
  {
   "cell_type": "code",
   "execution_count": 241,
   "id": "46096cbc",
   "metadata": {},
   "outputs": [
    {
     "name": "stdout",
     "output_type": "stream",
     "text": [
      "[{'_id': ObjectId('6126b34974d6dc4b6bacfc77'), 'name': 'Jaqueta Couro Balmain'},\n",
      " {'_id': ObjectId('6126b35674d6dc4b6bacfc78'),\n",
      "  'name': 'Jaqueta Jeans Balmain Vintage'},\n",
      " {'_id': ObjectId('6126b36274d6dc4b6bacfc79'),\n",
      "  'name': 'Jaqueta Inverno Balmain'}]\n"
     ]
    }
   ],
   "source": [
    "result = db.product.find( { \"cat.name\": { \"$all\": [ \"Jaqueta\"] } } ,{\"name\":1} )\n",
    "\n",
    "pprint(list(result))"
   ]
  },
  {
   "cell_type": "code",
   "execution_count": null,
   "id": "b1c1f68a",
   "metadata": {},
   "outputs": [],
   "source": [
    "db.category.create_index((\"ancestors\"))\n"
   ]
  },
  {
   "cell_type": "code",
   "execution_count": 243,
   "id": "6ee8ebbe",
   "metadata": {},
   "outputs": [
    {
     "name": "stdout",
     "output_type": "stream",
     "text": [
      "Collecting watermark\n",
      "  Downloading watermark-2.2.0-py2.py3-none-any.whl (6.8 kB)\n",
      "Requirement already satisfied: ipython in c:\\users\\phill\\anaconda3\\lib\\site-packages (from watermark) (7.22.0)\n",
      "Requirement already satisfied: prompt-toolkit!=3.0.0,!=3.0.1,<3.1.0,>=2.0.0 in c:\\users\\phill\\anaconda3\\lib\\site-packages (from ipython->watermark) (3.0.17)\n",
      "Requirement already satisfied: colorama in c:\\users\\phill\\anaconda3\\lib\\site-packages (from ipython->watermark) (0.4.4)\n",
      "Requirement already satisfied: pickleshare in c:\\users\\phill\\anaconda3\\lib\\site-packages (from ipython->watermark) (0.7.5)\n",
      "Requirement already satisfied: jedi>=0.16 in c:\\users\\phill\\anaconda3\\lib\\site-packages (from ipython->watermark) (0.17.2)\n",
      "Requirement already satisfied: traitlets>=4.2 in c:\\users\\phill\\anaconda3\\lib\\site-packages (from ipython->watermark) (5.0.5)\n",
      "Requirement already satisfied: setuptools>=18.5 in c:\\users\\phill\\anaconda3\\lib\\site-packages (from ipython->watermark) (52.0.0.post20210125)\n",
      "Requirement already satisfied: backcall in c:\\users\\phill\\anaconda3\\lib\\site-packages (from ipython->watermark) (0.2.0)\n",
      "Requirement already satisfied: pygments in c:\\users\\phill\\anaconda3\\lib\\site-packages (from ipython->watermark) (2.8.1)\n",
      "Requirement already satisfied: decorator in c:\\users\\phill\\anaconda3\\lib\\site-packages (from ipython->watermark) (5.0.6)\n",
      "Requirement already satisfied: parso<0.8.0,>=0.7.0 in c:\\users\\phill\\anaconda3\\lib\\site-packages (from jedi>=0.16->ipython->watermark) (0.7.0)\n",
      "Requirement already satisfied: wcwidth in c:\\users\\phill\\anaconda3\\lib\\site-packages (from prompt-toolkit!=3.0.0,!=3.0.1,<3.1.0,>=2.0.0->ipython->watermark) (0.2.5)\n",
      "Requirement already satisfied: ipython-genutils in c:\\users\\phill\\anaconda3\\lib\\site-packages (from traitlets>=4.2->ipython->watermark) (0.2.0)\n",
      "Installing collected packages: watermark\n",
      "Successfully installed watermark-2.2.0\n",
      "Note: you may need to restart the kernel to use updated packages.\n"
     ]
    }
   ],
   "source": [
    "pip install watermark\n"
   ]
  },
  {
   "cell_type": "code",
   "execution_count": 7,
   "id": "5a844b6d",
   "metadata": {},
   "outputs": [
    {
     "name": "stdout",
     "output_type": "stream",
     "text": [
      "Python implementation: CPython\n",
      "Python version       : 3.8.8\n",
      "IPython version      : 7.22.0\n",
      "\n",
      "datetime : unknown\n",
      "pymongo  : 3.12.0\n",
      "warnings : unknown\n",
      "re       : 2.2.1\n",
      "watermark: 2.2.0\n",
      "\n",
      "Compiler    : MSC v.1916 64 bit (AMD64)\n",
      "OS          : Windows\n",
      "Release     : 10\n",
      "Machine     : AMD64\n",
      "Processor   : Intel64 Family 6 Model 142 Stepping 9, GenuineIntel\n",
      "CPU cores   : 4\n",
      "Architecture: 64bit\n",
      "\n",
      "Last updated: Fri Aug 27 2021 19:55:20Hora oficial do Brasil\n",
      "\n"
     ]
    }
   ],
   "source": [
    "%load_ext watermark\n",
    "%watermark -v -m -p datetime,pymongo,warnings,re,watermark\n",
    "%watermark -u -n -t -z"
   ]
  },
  {
   "cell_type": "code",
   "execution_count": null,
   "id": "3106e87c",
   "metadata": {},
   "outputs": [],
   "source": []
  }
 ],
 "metadata": {
  "kernelspec": {
   "display_name": "Python 3",
   "language": "python",
   "name": "python3"
  },
  "language_info": {
   "codemirror_mode": {
    "name": "ipython",
    "version": 3
   },
   "file_extension": ".py",
   "mimetype": "text/x-python",
   "name": "python",
   "nbconvert_exporter": "python",
   "pygments_lexer": "ipython3",
   "version": "3.8.8"
  }
 },
 "nbformat": 4,
 "nbformat_minor": 5
}
